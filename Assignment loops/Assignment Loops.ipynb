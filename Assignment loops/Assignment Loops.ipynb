{
 "cells": [
  {
   "cell_type": "markdown",
   "id": "62d660e5-78d8-4716-830b-3b5853b43b8a",
   "metadata": {},
   "source": [
    "# Q1. print numbers from 1 to 5 using a while loop."
   ]
  },
  {
   "cell_type": "code",
   "execution_count": 2,
   "id": "4f98fe0c-2302-42ae-96e2-a757c4d3e04d",
   "metadata": {},
   "outputs": [
    {
     "name": "stdout",
     "output_type": "stream",
     "text": [
      "1\n",
      "2\n",
      "3\n",
      "4\n",
      "5\n"
     ]
    }
   ],
   "source": [
    "# Let assign i integer 1\n",
    "i = 1\n",
    "while i < 6:\n",
    "    print(i)\n",
    "    i += 1"
   ]
  },
  {
   "cell_type": "markdown",
   "id": "f3924aef-3152-45b3-bb80-75c98c4a8f81",
   "metadata": {},
   "source": [
    "# Q2. Calculate the sum of numbers from 1 to 10 using a while loop."
   ]
  },
  {
   "cell_type": "code",
   "execution_count": 5,
   "id": "be7ba88b-0490-42b2-9076-5c5eeaa5801a",
   "metadata": {},
   "outputs": [
    {
     "name": "stdout",
     "output_type": "stream",
     "text": [
      "55\n"
     ]
    }
   ],
   "source": [
    "i = 1\n",
    "j = 0\n",
    "while i < 11: # for run this loop upto 10\n",
    "    j = j+i\n",
    "    i += 1\n",
    "print(j)\n",
    "    "
   ]
  },
  {
   "cell_type": "markdown",
   "id": "f1979ce8-4acd-4900-91ff-027f2ec88937",
   "metadata": {},
   "source": [
    "# Q3. Calculate the factorial of a number using a for loop."
   ]
  },
  {
   "cell_type": "code",
   "execution_count": 19,
   "id": "d1ab51f3-2202-4dfc-8f5d-2e02d57624a9",
   "metadata": {},
   "outputs": [
    {
     "name": "stdout",
     "output_type": "stream",
     "text": [
      "720\n"
     ]
    }
   ],
   "source": [
    "a = 6\n",
    "#Let calculate factorial of a\n",
    "j = 1\n",
    "for i in range(1,a+1):\n",
    "    j = j*i\n",
    "print(j)"
   ]
  },
  {
   "cell_type": "markdown",
   "id": "d654fbc4-c440-418a-b894-d548c9ef9cc2",
   "metadata": {},
   "source": [
    "# Q4.Count the number of vowels in a string using a for loop."
   ]
  },
  {
   "cell_type": "code",
   "execution_count": 29,
   "id": "1eef285f-abb6-4284-bc61-d10d1e53e156",
   "metadata": {},
   "outputs": [
    {
     "name": "stdin",
     "output_type": "stream",
     "text": [
      "How was Your Day It was actually good\n"
     ]
    },
    {
     "name": "stdout",
     "output_type": "stream",
     "text": [
      "Total vowels in this sentence are 7\n"
     ]
    }
   ],
   "source": [
    "#Let first take input a string from user\n",
    "y = input(\"How was Your Day\")\n",
    "count = 0\n",
    "for x in y:\n",
    "    if x in \"aeiouAEIOU\":\n",
    "        count = count + 1\n",
    "print(\"Total vowels in this sentence are\",count)"
   ]
  },
  {
   "cell_type": "markdown",
   "id": "352a76b2-c8f2-472c-9564-e7b4b3ee9451",
   "metadata": {},
   "source": [
    "# Q5. Print a pattem using nested loops."
   ]
  },
  {
   "cell_type": "code",
   "execution_count": 36,
   "id": "05dba033-f174-4de2-ae9e-ee1b58b9be2c",
   "metadata": {},
   "outputs": [
    {
     "name": "stdout",
     "output_type": "stream",
     "text": [
      "@ \n",
      "@ @ \n",
      "@ @ @ \n",
      "@ @ @ @ \n",
      "@ @ @ @ @ \n"
     ]
    }
   ],
   "source": [
    "i=1\n",
    "j=1\n",
    "\n",
    "for i in range(1,6):\n",
    "    for j in range(1,i+1):\n",
    "        print(\"@\", end=\" \")\n",
    "        j +=1\n",
    "    print()\n",
    "    i +=1\n"
   ]
  },
  {
   "cell_type": "markdown",
   "id": "d5e34106-8442-4471-9f0c-ed8d4698f99a",
   "metadata": {},
   "source": [
    "# Q6. Generate a multiplication table using nested loops."
   ]
  },
  {
   "cell_type": "code",
   "execution_count": 40,
   "id": "473be8f1-cfb6-4f39-92ba-ec3f0af7a174",
   "metadata": {},
   "outputs": [
    {
     "name": "stdout",
     "output_type": "stream",
     "text": [
      "1*1 = 1\n",
      "1*2 = 2\n",
      "1*3 = 3\n",
      "1*4 = 4\n",
      "1*5 = 5\n",
      "1*6 = 6\n",
      "1*7 = 7\n",
      "1*8 = 8\n",
      "1*9 = 9\n",
      "1*10 = 10\n",
      "\n",
      "2*1 = 2\n",
      "2*2 = 4\n",
      "2*3 = 6\n",
      "2*4 = 8\n",
      "2*5 = 10\n",
      "2*6 = 12\n",
      "2*7 = 14\n",
      "2*8 = 16\n",
      "2*9 = 18\n",
      "2*10 = 20\n",
      "\n",
      "3*1 = 3\n",
      "3*2 = 6\n",
      "3*3 = 9\n",
      "3*4 = 12\n",
      "3*5 = 15\n",
      "3*6 = 18\n",
      "3*7 = 21\n",
      "3*8 = 24\n",
      "3*9 = 27\n",
      "3*10 = 30\n",
      "\n",
      "4*1 = 4\n",
      "4*2 = 8\n",
      "4*3 = 12\n",
      "4*4 = 16\n",
      "4*5 = 20\n",
      "4*6 = 24\n",
      "4*7 = 28\n",
      "4*8 = 32\n",
      "4*9 = 36\n",
      "4*10 = 40\n",
      "\n",
      "5*1 = 5\n",
      "5*2 = 10\n",
      "5*3 = 15\n",
      "5*4 = 20\n",
      "5*5 = 25\n",
      "5*6 = 30\n",
      "5*7 = 35\n",
      "5*8 = 40\n",
      "5*9 = 45\n",
      "5*10 = 50\n",
      "\n",
      "6*1 = 6\n",
      "6*2 = 12\n",
      "6*3 = 18\n",
      "6*4 = 24\n",
      "6*5 = 30\n",
      "6*6 = 36\n",
      "6*7 = 42\n",
      "6*8 = 48\n",
      "6*9 = 54\n",
      "6*10 = 60\n",
      "\n",
      "7*1 = 7\n",
      "7*2 = 14\n",
      "7*3 = 21\n",
      "7*4 = 28\n",
      "7*5 = 35\n",
      "7*6 = 42\n",
      "7*7 = 49\n",
      "7*8 = 56\n",
      "7*9 = 63\n",
      "7*10 = 70\n",
      "\n",
      "8*1 = 8\n",
      "8*2 = 16\n",
      "8*3 = 24\n",
      "8*4 = 32\n",
      "8*5 = 40\n",
      "8*6 = 48\n",
      "8*7 = 56\n",
      "8*8 = 64\n",
      "8*9 = 72\n",
      "8*10 = 80\n",
      "\n",
      "9*1 = 9\n",
      "9*2 = 18\n",
      "9*3 = 27\n",
      "9*4 = 36\n",
      "9*5 = 45\n",
      "9*6 = 54\n",
      "9*7 = 63\n",
      "9*8 = 72\n",
      "9*9 = 81\n",
      "9*10 = 90\n",
      "\n",
      "10*1 = 10\n",
      "10*2 = 20\n",
      "10*3 = 30\n",
      "10*4 = 40\n",
      "10*5 = 50\n",
      "10*6 = 60\n",
      "10*7 = 70\n",
      "10*8 = 80\n",
      "10*9 = 90\n",
      "10*10 = 100\n",
      "\n"
     ]
    }
   ],
   "source": [
    "\n",
    "for i in range(1,11):\n",
    "    for j in range(1,11):\n",
    "        prod = i*j\n",
    "        print(f\"{i}*{j} = {prod}\")\n",
    "    print()\n",
    "        "
   ]
  },
  {
   "cell_type": "code",
   "execution_count": null,
   "id": "e300bee3-13b4-4898-b479-caa21e9d3ed4",
   "metadata": {},
   "outputs": [],
   "source": []
  }
 ],
 "metadata": {
  "kernelspec": {
   "display_name": "Python 3 (ipykernel)",
   "language": "python",
   "name": "python3"
  },
  "language_info": {
   "codemirror_mode": {
    "name": "ipython",
    "version": 3
   },
   "file_extension": ".py",
   "mimetype": "text/x-python",
   "name": "python",
   "nbconvert_exporter": "python",
   "pygments_lexer": "ipython3",
   "version": "3.10.8"
  }
 },
 "nbformat": 4,
 "nbformat_minor": 5
}
